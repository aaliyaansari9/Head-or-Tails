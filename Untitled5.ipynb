{
  "nbformat": 4,
  "nbformat_minor": 0,
  "metadata": {
    "colab": {
      "provenance": []
    },
    "kernelspec": {
      "name": "python3",
      "display_name": "Python 3"
    },
    "language_info": {
      "name": "python"
    }
  },
  "cells": [
    {
      "cell_type": "code",
      "execution_count": 1,
      "metadata": {
        "id": "tQS2pyCwhGfQ"
      },
      "outputs": [],
      "source": [
        "import random"
      ]
    },
    {
      "cell_type": "code",
      "source": [
        "choices = [\"Head\", \"Tail\"]\n",
        "computer_score = 0\n",
        "player_score = 0\n",
        "player = False\n",
        "while True:\n",
        "    player = input(\"Head or Tail?\").capitalize()\n",
        "    computer = random.choice(choices)\n",
        "    if player == 'End':\n",
        "         print(\"Final scores:\");\n",
        "         print(\"Computer_score:\", computer_score);\n",
        "         print(\"Player_score:\", player_score);\n",
        "    elif player == computer:\n",
        "      print(\"You win\")\n",
        "      player_score+=1\n",
        "    elif player != computer:\n",
        "      print(\"You lose\")\n",
        "      computer_score+=1"
      ],
      "metadata": {
        "colab": {
          "base_uri": "https://localhost:8080/"
        },
        "id": "Y_mIFhoWhKYm",
        "outputId": "15888d9e-9f6d-479f-fcb8-f15650f8dfdc"
      },
      "execution_count": null,
      "outputs": [
        {
          "output_type": "stream",
          "name": "stdout",
          "text": [
            "Head or Tail?head\n",
            "You lose\n",
            "Head or Tail?tail\n",
            "You win\n",
            "Head or Tail?end\n",
            "Final scores:\n",
            "Computer_score: 1\n",
            "Player_score: 1\n"
          ]
        }
      ]
    },
    {
      "cell_type": "code",
      "source": [],
      "metadata": {
        "id": "_u7kAeVBhLQj"
      },
      "execution_count": null,
      "outputs": []
    }
  ]
}